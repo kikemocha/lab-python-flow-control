{
 "cells": [
  {
   "cell_type": "markdown",
   "id": "d3bfc191-8885-42ee-b0a0-bbab867c6f9f",
   "metadata": {
    "tags": []
   },
   "source": [
    "# Lab | Flow Control"
   ]
  },
  {
   "cell_type": "markdown",
   "id": "3851fcd1-cf98-4653-9c89-e003b7ec9400",
   "metadata": {},
   "source": [
    "## Exercise: Managing Customer Orders Optimized\n",
    "\n",
    "In the last lab, you were starting an online store that sells various products. To ensure smooth operations, you developed a program that manages customer orders and inventory.\n",
    "\n",
    "You did so without using flow control. Let's go a step further and improve this code.\n",
    "\n",
    "Follow the steps below to complete the exercise:\n",
    "\n",
    "1. Look at your code from the lab data structures, and improve repeated code with loops.\n",
    "\n",
    "2. Instead of asking the user to input the name of three products that a customer wants to order, do the following:\n",
    "    \n",
    "    a. Prompt the user to enter the name of a product that a customer wants to order.\n",
    "    \n",
    "    b. Add the product name to the \"customer_orders\" set.\n",
    "    \n",
    "    c. Ask the user if they want to add another product (yes/no).\n",
    "    \n",
    "    d. Continue the loop until the user does not want to add another product.\n",
    "\n",
    "3. Instead of updating the inventory by subtracting 1 from the quantity of each product, only do it for  the products that were ordered (those in \"customer_orders\")."
   ]
  },
  {
   "cell_type": "code",
   "execution_count": 2,
   "id": "a5c1deaa-bbf7-47ee-890e-1bdbaad352e7",
   "metadata": {},
   "outputs": [
    {
     "name": "stdin",
     "output_type": "stream",
     "text": [
      "¿Cuántos t-shirt hay disponible en el inventario? ->  10\n",
      "¿Cuántos mug hay disponible en el inventario? ->  10\n",
      "¿Cuántos hat hay disponible en el inventario? ->  10\n",
      "¿Cuántos book hay disponible en el inventario? ->  10\n",
      "¿Cuántos keychain hay disponible en el inventario? ->  10\n",
      "¿Qué producto quieres añadir? \"t-shirt\", \"mug\", \"hat\", \"book\" or \"keychain\" ->  mug\n",
      "¿Quieres continuar? (yes/no) yes\n",
      "¿Qué producto quieres añadir? \"t-shirt\", \"mug\", \"hat\", \"book\" or \"keychain\" ->  hat\n",
      "¿Quieres continuar? (yes/no) no\n"
     ]
    },
    {
     "name": "stdout",
     "output_type": "stream",
     "text": [
      "{'hat', 'mug'}\n",
      "Order Stadistics: \n",
      " Total Products Ordered: 2\n",
      " Percentage of Products Ordered: 4.0%\n",
      "t-shirt  :  10\n",
      "mug  :  9\n",
      "hat  :  9\n",
      "book  :  10\n",
      "keychain  :  10\n"
     ]
    }
   ],
   "source": [
    "products = [\"t-shirt\", \"mug\", \"hat\", \"book\", \"keychain\"]\n",
    "\n",
    "inventory = dict()\n",
    "\n",
    "for product in products:\n",
    "    value = int(input(f\"¿Cuántos {product} hay disponible en el inventario? -> \"))\n",
    "    inventory[product] = value\n",
    "\n",
    "customer_orders = set()\n",
    "loop = True\n",
    "while loop == True:\n",
    "    product = input('¿Qué producto quieres añadir? \"t-shirt\", \"mug\", \"hat\", \"book\" or \"keychain\" -> ')\n",
    "    customer_orders.add(product)\n",
    "    continue_var = input('¿Quieres continuar? (yes/no)')\n",
    "    if continue_var == 'no':\n",
    "        loop = False\n",
    "print(customer_orders)\n",
    "\n",
    "total_products = sum(inventory.values())\n",
    "\n",
    "order_status = [len(customer_orders), (len(customer_orders) / total_products) * 100]\n",
    "print(f\"Order Stadistics: \\n Total Products Ordered: {order_status[0]}\\n Percentage of Products Ordered: {order_status[1]}%\")\n",
    "\n",
    "for key in customer_orders:\n",
    "    inventory[key] -= 1\n",
    "\n",
    "for key, value in inventory.items():\n",
    "    print(key, \" : \", value)\n"
   ]
  }
 ],
 "metadata": {
  "kernelspec": {
   "display_name": "Python 3 (ipykernel)",
   "language": "python",
   "name": "python3"
  },
  "language_info": {
   "codemirror_mode": {
    "name": "ipython",
    "version": 3
   },
   "file_extension": ".py",
   "mimetype": "text/x-python",
   "name": "python",
   "nbconvert_exporter": "python",
   "pygments_lexer": "ipython3",
   "version": "3.12.2"
  }
 },
 "nbformat": 4,
 "nbformat_minor": 5
}
